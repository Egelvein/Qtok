{
 "cells": [
  {
   "metadata": {},
   "cell_type": "markdown",
   "source": [
    "# This is a sample Jupyter Notebook\n",
    "\n",
    "Below is an example of a code cell. \n",
    "Put your cursor into the cell and press Shift+Enter to execute it and select the next one, or click !here goes the icon of the corresponding button in the gutter! button.\n",
    "To debug a cell, press Alt+Shift+Enter, or click !here goes the icon of the corresponding button in the gutter! button.\n",
    "\n",
    "Press Double Shift to search everywhere for classes, files, tool windows, actions, and settings.\n",
    "\n",
    "To learn more about Jupyter Notebooks in PyCharm, see [help](https://www.jetbrains.com/help/pycharm/jupyter-notebook-support.html).\n",
    "For an overview of PyCharm, go to Help -> Learn IDE features or refer to [our documentation](https://www.jetbrains.com/help/pycharm/getting-started.html)."
   ],
   "id": "8a77807f92f26ee"
  },
  {
   "metadata": {
    "ExecuteTime": {
     "end_time": "2024-07-30T07:26:10.951512Z",
     "start_time": "2024-07-30T07:26:10.770368Z"
    }
   },
   "cell_type": "code",
   "source": [
    "import json\n",
    "import re\n",
    "import unicodedata\n",
    "\n",
    "with open('data/tokens.json', 'r', encoding='utf-8') as f:\n",
    "    token_data = json.load(f)\n",
    "\n",
    "def is_control_word(token):\n",
    "    control_words = ['<s>', '</s>', '<pad>', '<unk>', '<mask>', '<eos>', '<bos>']\n",
    "    result = ((token in control_words) or\n",
    "              (token.startswith('control_')) or\n",
    "              (token.startswith('[') and token.endswith(']')))\n",
    "    \n",
    "    return result\n",
    "\n",
    "for token in list(token_data.keys())[:10]:  # Test first 10 tokens\n",
    "    if is_control_word(token):\n",
    "        print(f\"{token} is a control word\")"
   ],
   "id": "853fc94a5f29ffd3",
   "outputs": [
    {
     "name": "stdout",
     "output_type": "stream",
     "text": [
      "<unk> is a control word\n",
      "<s> is a control word\n",
      "</s> is a control word\n",
      "[INST] is a control word\n",
      "[/INST] is a control word\n",
      "[TOOL_CALLS] is a control word\n",
      "[AVAILABLE_TOOLS] is a control word\n",
      "[/AVAILABLE_TOOLS] is a control word\n",
      "[TOOL_RESULTS] is a control word\n",
      "[/TOOL_RESULTS] is a control word\n"
     ]
    }
   ],
   "execution_count": 16
  },
  {
   "metadata": {
    "ExecuteTime": {
     "end_time": "2024-07-30T07:26:07.591851Z",
     "start_time": "2024-07-30T07:26:07.580225Z"
    }
   },
   "cell_type": "code",
   "source": [
    "def is_pure_unicode_byte(token):\n",
    "    return bool(re.match(r'^<0x[0-9A-F]{2}>$', token))\n"
   ],
   "id": "74dfabcc5b4c828d",
   "outputs": [],
   "execution_count": 15
  },
  {
   "metadata": {
    "ExecuteTime": {
     "end_time": "2024-07-30T07:26:00.713554Z",
     "start_time": "2024-07-30T07:26:00.702605Z"
    }
   },
   "cell_type": "code",
   "source": [
    "def is_single_char(token):\n",
    "    if len(token) != 1:\n",
    "        return False\n",
    "    char = token[0]\n",
    "    return (char.isalpha() or char.isnumeric() or\n",
    "            unicodedata.category(char).startswith('P') or\n",
    "            char.isspace())\n"
   ],
   "id": "cac648232a1fdc9",
   "outputs": [],
   "execution_count": 14
  },
  {
   "metadata": {
    "ExecuteTime": {
     "end_time": "2024-07-30T07:26:43.620043Z",
     "start_time": "2024-07-30T07:26:40.829449Z"
    }
   },
   "cell_type": "code",
   "source": [
    "import nltk\n",
    "from nltk.stem import WordNetLemmatizer\n",
    "from nltk.corpus import wordnet\n",
    "\n",
    "# Download necessary NLTK data\n",
    "nltk.download('wordnet')\n",
    "nltk.download('averaged_perceptron_tagger')\n",
    "\n",
    "lemmatizer = WordNetLemmatizer()\n",
    "\n",
    "def get_wordnet_pos(word):\n",
    "    \"\"\"Map POS tag to first character lemmatize() accepts\"\"\"\n",
    "    tag = nltk.pos_tag([word])[0][1][0].upper()\n",
    "    tag_dict = {\"J\": wordnet.ADJ,\n",
    "                \"N\": wordnet.NOUN,\n",
    "                \"V\": wordnet.VERB,\n",
    "                \"R\": wordnet.ADV}\n",
    "    return tag_dict.get(tag, wordnet.NOUN)\n",
    "\n",
    "def is_lemma(token):\n",
    "    if not token.isalpha():\n",
    "        return False\n",
    "\n",
    "    lemma = lemmatizer.lemmatize(token, get_wordnet_pos(token))\n",
    "\n",
    "    return lemma == token"
   ],
   "id": "5366e9fa0b4ecc8c",
   "outputs": [
    {
     "name": "stderr",
     "output_type": "stream",
     "text": [
      "[nltk_data] Downloading package wordnet to\n",
      "[nltk_data]     /Users/Egor.Safronov/nltk_data...\n",
      "[nltk_data] Downloading package averaged_perceptron_tagger to\n",
      "[nltk_data]     /Users/Egor.Safronov/nltk_data...\n",
      "[nltk_data]   Unzipping taggers/averaged_perceptron_tagger.zip.\n"
     ]
    }
   ],
   "execution_count": 18
  },
  {
   "metadata": {
    "ExecuteTime": {
     "end_time": "2024-07-30T07:28:24.519987Z",
     "start_time": "2024-07-30T07:28:24.510269Z"
    }
   },
   "cell_type": "code",
   "source": [
    "import syllables\n",
    "\n",
    "def is_syllable(token):\n",
    "    if not token.isalpha():\n",
    "        return False\n",
    "\n",
    "    return syllables.estimate(token) == 1"
   ],
   "id": "21dee5cd0cb5280d",
   "outputs": [],
   "execution_count": 23
  },
  {
   "metadata": {
    "ExecuteTime": {
     "end_time": "2024-07-30T07:55:05.763882Z",
     "start_time": "2024-07-30T07:55:05.304645Z"
    }
   },
   "cell_type": "code",
   "source": "!pip uninstall -y numpy",
   "id": "adebabbd3677281b",
   "outputs": [
    {
     "name": "stdout",
     "output_type": "stream",
     "text": [
      "\u001B[33mWARNING: Skipping /Users/Egor.Safronov/miniconda3/lib/python3.12/site-packages/nbclient-0.8.0.dist-info due to invalid metadata entry 'name'\u001B[0m\u001B[33m\r\n",
      "\u001B[0m\u001B[33mWARNING: Skipping /Users/Egor.Safronov/miniconda3/lib/python3.12/site-packages/nbconvert-7.10.0.dist-info due to invalid metadata entry 'name'\u001B[0m\u001B[33m\r\n",
      "\u001B[0m\u001B[33mWARNING: Skipping /Users/Egor.Safronov/miniconda3/lib/python3.12/site-packages/jupyter_client-8.6.0.dist-info due to invalid metadata entry 'name'\u001B[0m\u001B[33m\r\n",
      "\u001B[0m\u001B[33mWARNING: Skipping /Users/Egor.Safronov/miniconda3/lib/python3.12/site-packages/Pygments-2.15.1.dist-info due to invalid metadata entry 'name'\u001B[0m\u001B[33m\r\n",
      "\u001B[0m\u001B[33mWARNING: Skipping /Users/Egor.Safronov/miniconda3/lib/python3.12/site-packages/nbformat-5.9.2.dist-info due to invalid metadata entry 'name'\u001B[0m\u001B[33m\r\n",
      "\u001B[0m\u001B[33mWARNING: Skipping /Users/Egor.Safronov/miniconda3/lib/python3.12/site-packages/conda-24.3.0.dist-info due to invalid metadata entry 'name'\u001B[0m\u001B[33m\r\n",
      "\u001B[0m\u001B[33mWARNING: Skipping /Users/Egor.Safronov/miniconda3/lib/python3.12/site-packages/conda-24.7.1.dist-info due to invalid metadata entry 'name'\u001B[0m\u001B[33m\r\n",
      "\u001B[0m\u001B[33mWARNING: Skipping /Users/Egor.Safronov/miniconda3/lib/python3.12/site-packages/jsonschema-4.19.2.dist-info due to invalid metadata entry 'name'\u001B[0m\u001B[33m\r\n",
      "\u001B[0m\u001B[33mWARNING: Skipping /Users/Egor.Safronov/miniconda3/lib/python3.12/site-packages/jupyter_server-2.14.1.dist-info due to invalid metadata entry 'name'\u001B[0m\u001B[33m\r\n",
      "\u001B[0m\u001B[33mWARNING: Skipping /Users/Egor.Safronov/miniconda3/lib/python3.12/site-packages/Babel-2.11.0.dist-info due to invalid metadata entry 'name'\u001B[0m\u001B[33m\r\n",
      "\u001B[0m\u001B[33mWARNING: Skipping /Users/Egor.Safronov/miniconda3/lib/python3.12/site-packages/jupyterlab-4.0.11.dist-info due to invalid metadata entry 'name'\u001B[0m\u001B[33m\r\n",
      "\u001B[0m\u001B[33mWARNING: Skipping /Users/Egor.Safronov/miniconda3/lib/python3.12/site-packages/PyQt5-5.15.10.dist-info due to invalid metadata entry 'name'\u001B[0m\u001B[33m\r\n",
      "\u001B[0m\u001B[33mWARNING: Skipping /Users/Egor.Safronov/miniconda3/lib/python3.12/site-packages/sip-6.7.12.dist-info due to invalid metadata entry 'name'\u001B[0m\u001B[33m\r\n",
      "\u001B[0m\u001B[33mWARNING: Skipping /Users/Egor.Safronov/miniconda3/lib/python3.12/site-packages/qtconsole-5.5.1.dist-info due to invalid metadata entry 'name'\u001B[0m\u001B[33m\r\n",
      "\u001B[0m\u001B[33mWARNING: Skipping /Users/Egor.Safronov/miniconda3/lib/python3.12/site-packages/ipython-8.25.0.dist-info due to invalid metadata entry 'name'\u001B[0m\u001B[33m\r\n",
      "\u001B[0m\u001B[33mWARNING: Skipping /Users/Egor.Safronov/miniconda3/lib/python3.12/site-packages/Send2Trash-1.8.2.dist-info due to invalid metadata entry 'name'\u001B[0m\u001B[33m\r\n",
      "\u001B[0m\u001B[33mWARNING: Skipping /Users/Egor.Safronov/miniconda3/lib/python3.12/site-packages/notebook-7.0.8.dist-info due to invalid metadata entry 'name'\u001B[0m\u001B[33m\r\n",
      "\u001B[0m\u001B[33mWARNING: Skipping /Users/Egor.Safronov/miniconda3/lib/python3.12/site-packages/nbclient-0.8.0.dist-info due to invalid metadata entry 'name'\u001B[0m\u001B[33m\r\n",
      "\u001B[0m\u001B[33mWARNING: Skipping /Users/Egor.Safronov/miniconda3/lib/python3.12/site-packages/nbconvert-7.10.0.dist-info due to invalid metadata entry 'name'\u001B[0m\u001B[33m\r\n",
      "\u001B[0m\u001B[33mWARNING: Skipping /Users/Egor.Safronov/miniconda3/lib/python3.12/site-packages/jupyter_client-8.6.0.dist-info due to invalid metadata entry 'name'\u001B[0m\u001B[33m\r\n",
      "\u001B[0m\u001B[33mWARNING: Skipping /Users/Egor.Safronov/miniconda3/lib/python3.12/site-packages/Pygments-2.15.1.dist-info due to invalid metadata entry 'name'\u001B[0m\u001B[33m\r\n",
      "\u001B[0m\u001B[33mWARNING: Skipping /Users/Egor.Safronov/miniconda3/lib/python3.12/site-packages/nbformat-5.9.2.dist-info due to invalid metadata entry 'name'\u001B[0m\u001B[33m\r\n",
      "\u001B[0m\u001B[33mWARNING: Skipping /Users/Egor.Safronov/miniconda3/lib/python3.12/site-packages/conda-24.3.0.dist-info due to invalid metadata entry 'name'\u001B[0m\u001B[33m\r\n",
      "\u001B[0m\u001B[33mWARNING: Skipping /Users/Egor.Safronov/miniconda3/lib/python3.12/site-packages/conda-24.7.1.dist-info due to invalid metadata entry 'name'\u001B[0m\u001B[33m\r\n",
      "\u001B[0m\u001B[33mWARNING: Skipping /Users/Egor.Safronov/miniconda3/lib/python3.12/site-packages/jsonschema-4.19.2.dist-info due to invalid metadata entry 'name'\u001B[0m\u001B[33m\r\n",
      "\u001B[0m\u001B[33mWARNING: Skipping /Users/Egor.Safronov/miniconda3/lib/python3.12/site-packages/jupyter_server-2.14.1.dist-info due to invalid metadata entry 'name'\u001B[0m\u001B[33m\r\n",
      "\u001B[0m\u001B[33mWARNING: Skipping /Users/Egor.Safronov/miniconda3/lib/python3.12/site-packages/Babel-2.11.0.dist-info due to invalid metadata entry 'name'\u001B[0m\u001B[33m\r\n",
      "\u001B[0mFound existing installation: numpy 1.26.4\r\n",
      "Uninstalling numpy-1.26.4:\r\n",
      "  Successfully uninstalled numpy-1.26.4\r\n"
     ]
    }
   ],
   "execution_count": 54
  },
  {
   "metadata": {
    "ExecuteTime": {
     "end_time": "2024-07-30T07:55:09.194070Z",
     "start_time": "2024-07-30T07:55:09.185992Z"
    }
   },
   "cell_type": "code",
   "source": [
    "import sys\n",
    "print(f\"Python version: {sys.version}\")\n",
    "\n",
    "try:\n",
    "    import numpy\n",
    "    print(f\"NumPy imported successfully {numpy.__version__}\")\n",
    "except Exception as e:\n",
    "    print(f\"Error importing NumPy: {e}\")\n",
    "\n",
    "try:\n",
    "    import spacy\n",
    "    print(\"spaCy imported successfully\")\n",
    "except Exception as e:\n",
    "    print(f\"Error importing spaCy: {e}\")"
   ],
   "id": "443276a58e5da0a8",
   "outputs": [
    {
     "name": "stdout",
     "output_type": "stream",
     "text": [
      "Python version: 3.12.2 | packaged by Anaconda, Inc. | (main, Feb 27 2024, 12:57:28) [Clang 14.0.6 ]\n",
      "NumPy imported successfully 2.0.1\n",
      "Error importing spaCy: numpy.dtype size changed, may indicate binary incompatibility. Expected 96 from C header, got 88 from PyObject\n"
     ]
    }
   ],
   "execution_count": 55
  },
  {
   "metadata": {},
   "cell_type": "code",
   "source": [
    "import spacy\n",
    "from collections import defaultdict\n",
    "\n",
    "language_models = {\n",
    "    'en': spacy.load(\"en_core_web_sm\"),\n",
    "    'de': spacy.load(\"de_core_news_sm\"),\n",
    "    'fr': spacy.load(\"fr_core_news_sm\"),\n",
    "    'es': spacy.load(\"es_core_news_sm\"),\n",
    "    # Add more models as needed\n",
    "}\n",
    "\n",
    "default_model = language_models['en']\n",
    "\n",
    "def is_lemma_multilingual(token, languages):\n",
    "    if not token.isalpha():\n",
    "        return False\n",
    "\n",
    "    for lang in languages:\n",
    "\n",
    "        nlp = language_models.get(lang, default_model)\n",
    "\n",
    "\n",
    "        doc = nlp(token)\n",
    "        lemma = doc[0].lemma_\n",
    "\n",
    "\n",
    "        if lemma == token:\n",
    "            return True\n",
    "\n",
    "    return False\n",
    "\n",
    "lemma_count = 0\n",
    "total_count = len(token_data)\n",
    "\n",
    "language_lemma_counts = defaultdict(int)\n",
    "\n",
    "for token, languages in token_data.items():\n",
    "    if is_lemma_multilingual(token, languages):\n",
    "        lemma_count += 1\n",
    "        for lang in languages:\n",
    "            language_lemma_counts[lang] += 1\n",
    "\n",
    "print(f\"Total lemmas: {lemma_count} out of {total_count} tokens ({lemma_count/total_count:.2%})\")\n",
    "\n",
    "# Print lemma counts for each language\n",
    "for lang, count in sorted(language_lemma_counts.items(), key=lambda x: x[1], reverse=True):\n",
    "    print(f\"{lang}: {count} lemmas\")\n"
   ],
   "id": "dcbd2ae817272a6e",
   "outputs": [],
   "execution_count": null
  },
  {
   "metadata": {
    "ExecuteTime": {
     "end_time": "2024-07-30T07:33:19.319357Z",
     "start_time": "2024-07-30T07:33:08.660377Z"
    }
   },
   "cell_type": "code",
   "source": [
    "import matplotlib.pyplot as plt\n",
    "from collections import Counter\n",
    "\n",
    "def classify_token(token):\n",
    "    if is_control_word(token):\n",
    "        return \"Control Word\"\n",
    "    elif is_pure_unicode_byte(token):\n",
    "        return \"Unicode Byte\"\n",
    "    elif is_single_char(token):\n",
    "        return \"Single Char/Num/Punct/Space\"\n",
    "    elif is_syllable(token):\n",
    "        return \"Syllable\"\n",
    "    elif is_lemma(token):\n",
    "        return \"Lemma\"\n",
    "    else:\n",
    "        return \"Other\"\n",
    "\n",
    "classifications = [classify_token(token) for token in token_data.keys()]\n",
    "\n",
    "classification_counts = Counter(classifications)\n",
    "\n",
    "categories = list(classification_counts.keys())\n",
    "counts = list(classification_counts.values())\n",
    "\n",
    "plt.figure(figsize=(12, 6))\n",
    "plt.bar(categories, counts)\n",
    "plt.title(\"Token Classification Distribution\")\n",
    "plt.xlabel(\"Categories\")\n",
    "plt.ylabel(\"Number of Tokens\")\n",
    "\n",
    "for i, v in enumerate(counts):\n",
    "    plt.text(i, v, str(v), ha='center', va='bottom')\n",
    "\n",
    "plt.tight_layout()\n",
    "plt.show()\n",
    "\n",
    "total = sum(counts)\n",
    "for category, count in classification_counts.items():\n",
    "    percentage = (count / total) * 100\n",
    "    print(f\"{category}: {count} ({percentage:.2f}%)\")"
   ],
   "id": "5edfb4927fdcd29e",
   "outputs": [
    {
     "data": {
      "text/plain": [
       "<Figure size 1200x600 with 1 Axes>"
      ],
      "image/png": "[encoded data removed]"
     },
     "metadata": {},
     "output_type": "display_data"
    },
    {
     "name": "stdout",
     "output_type": "stream",
     "text": [
      "Control Word: 1783 (0.41%)\n",
      "Unicode Byte: 256 (0.06%)\n",
      "Other: 207183 (47.76%)\n",
      "Syllable: 77661 (17.90%)\n",
      "Lemma: 143748 (33.14%)\n",
      "Single Char/Num/Punct/Space: 3158 (0.73%)\n"
     ]
    }
   ],
   "execution_count": 31
  },
  {
   "metadata": {},
   "cell_type": "code",
   "outputs": [],
   "execution_count": null,
   "source": "",
   "id": "51c157c306fd4ec2"
  }
 ],
 "metadata": {
  "kernelspec": {
   "display_name": "Python 3",
   "language": "python",
   "name": "python3"
  },
  "language_info": {
   "codemirror_mode": {
    "name": "ipython",
    "version": 2
   },
   "file_extension": ".py",
   "mimetype": "text/x-python",
   "name": "python",
   "nbconvert_exporter": "python",
   "pygments_lexer": "ipython2",
   "version": "2.7.6"
  }
 },
 "nbformat": 4,
 "nbformat_minor": 5
}
